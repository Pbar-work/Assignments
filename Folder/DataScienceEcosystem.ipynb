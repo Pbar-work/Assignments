{
 "cells": [
  {
   "cell_type": "markdown",
   "id": "1e4fd4c2-0378-4df5-8dec-2232150e796f",
   "metadata": {},
   "source": [
    "# Data Science Tools and Ecosystem"
   ]
  },
  {
   "cell_type": "markdown",
   "id": "930d1049-1c13-4477-b365-f9cf0bc2722d",
   "metadata": {},
   "source": [
    "In this notebook, Data Science Tools and Ecosystem are summarized."
   ]
  },
  {
   "cell_type": "markdown",
   "id": "21c3686b-828f-4054-849d-4a46ee848fad",
   "metadata": {},
   "source": [
    "<b>Objectives:\n",
    "* Popular languages used by Data Scientists\n",
    "* Libraries used by data scientists\n",
    "* Tools used by data scientists\n",
    "* Examples of evaluating arithmetic expressions in Python"
   ]
  },
  {
   "cell_type": "markdown",
   "id": "9f64b8d4-d43c-45e4-afd0-cb6ffb388c0e",
   "metadata": {},
   "source": [
    "Some of the popular languages that Data Scientists use are:\n",
    "1. R\n",
    "2. Python\n",
    "3. C++\n",
    "4. Java"
   ]
  },
  {
   "cell_type": "markdown",
   "id": "70e58463-35dd-42d4-82d8-75c0362cbbbe",
   "metadata": {},
   "source": [
    "Some commonly used libraries used by Data Scientists include:\n",
    "1. caret\n",
    "2. dplyr\n",
    "3. Pandas\n",
    "4. NumPy"
   ]
  },
  {
   "cell_type": "markdown",
   "id": "8e1a1942-871b-43bb-b3ba-6eff4c91676f",
   "metadata": {},
   "source": [
    "|Data Science Tools|\n",
    "|------------------|\n",
    "|Jupyter Notebook|\n",
    "|RStudio|\n",
    "|VS Code|"
   ]
  },
  {
   "cell_type": "markdown",
   "id": "d2bf3968-b47b-48c4-b750-328665628496",
   "metadata": {},
   "source": [
    "### Below are a few examples of evaluating arithmetic expressions in Python."
   ]
  },
  {
   "cell_type": "code",
   "execution_count": 13,
   "id": "a441387b-7871-424d-ab4d-4cb933cd6683",
   "metadata": {},
   "outputs": [
    {
     "data": {
      "text/plain": [
       "17"
      ]
     },
     "execution_count": 13,
     "metadata": {},
     "output_type": "execute_result"
    }
   ],
   "source": [
    "# This is a simple arithmetic expression to mutiply then add integers\n",
    "(3*4)+5"
   ]
  },
  {
   "cell_type": "code",
   "execution_count": 14,
   "id": "0bca00e1-af80-471a-bc22-f57afc28a531",
   "metadata": {},
   "outputs": [
    {
     "name": "stdout",
     "output_type": "stream",
     "text": [
      "200 minutes=  3.3333333333333335 hours\n"
     ]
    }
   ],
   "source": [
    "#This will convert 200 minutes to hours by dividing by 60\n",
    "print(\"200 minutes= \",(200/60),\"hours\")"
   ]
  },
  {
   "cell_type": "markdown",
   "id": "b80d2504-9494-41cf-8905-e701d7c46cf9",
   "metadata": {},
   "source": [
    "## Author\n",
    "Pranjal Baranwal"
   ]
  }
 ],
 "metadata": {
  "kernelspec": {
   "display_name": "Python 3 (ipykernel)",
   "language": "python",
   "name": "python3"
  },
  "language_info": {
   "codemirror_mode": {
    "name": "ipython",
    "version": 3
   },
   "file_extension": ".py",
   "mimetype": "text/x-python",
   "name": "python",
   "nbconvert_exporter": "python",
   "pygments_lexer": "ipython3",
   "version": "3.13.5"
  }
 },
 "nbformat": 4,
 "nbformat_minor": 5
}
